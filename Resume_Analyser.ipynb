{
  "nbformat": 4,
  "nbformat_minor": 0,
  "metadata": {
    "colab": {
      "provenance": [],
      "include_colab_link": true
    },
    "kernelspec": {
      "name": "python3",
      "display_name": "Python 3"
    },
    "language_info": {
      "name": "python"
    }
  },
  "cells": [
    {
      "cell_type": "markdown",
      "metadata": {
        "id": "view-in-github",
        "colab_type": "text"
      },
      "source": [
        "<a href=\"https://colab.research.google.com/github/Anie0205/AI-Resume-Analyzer/blob/main/Resume_Analyser.ipynb\" target=\"_parent\"><img src=\"https://colab.research.google.com/assets/colab-badge.svg\" alt=\"Open In Colab\"/></a>"
      ]
    },
    {
      "cell_type": "code",
      "source": [
        "# Install necessary libraries\n",
        "!pip install langchain-google-genai PyPDF2"
      ],
      "metadata": {
        "colab": {
          "base_uri": "https://localhost:8080/",
          "height": 949
        },
        "id": "NgX8tXfSWD0a",
        "outputId": "77df2e27-8b7f-4e50-da1e-81159fa4ea76"
      },
      "execution_count": null,
      "outputs": [
        {
          "output_type": "stream",
          "name": "stdout",
          "text": [
            "Collecting langchain-google-genai\n",
            "  Downloading langchain_google_genai-0.0.11-py3-none-any.whl (28 kB)\n",
            "Collecting PyPDF2\n",
            "  Downloading pypdf2-3.0.1-py3-none-any.whl (232 kB)\n",
            "\u001b[2K     \u001b[90m━━━━━━━━━━━━━━━━━━━━━━━━━━━━━━━━━━━━━━━━\u001b[0m \u001b[32m232.6/232.6 kB\u001b[0m \u001b[31m6.1 MB/s\u001b[0m eta \u001b[36m0:00:00\u001b[0m\n",
            "\u001b[?25hCollecting google-generativeai<0.5.0,>=0.4.1 (from langchain-google-genai)\n",
            "  Downloading google_generativeai-0.4.1-py3-none-any.whl (137 kB)\n",
            "\u001b[2K     \u001b[90m━━━━━━━━━━━━━━━━━━━━━━━━━━━━━━━━━━━━━━━━\u001b[0m \u001b[32m137.4/137.4 kB\u001b[0m \u001b[31m16.1 MB/s\u001b[0m eta \u001b[36m0:00:00\u001b[0m\n",
            "\u001b[?25hRequirement already satisfied: langchain-core<0.2,>=0.1 in /usr/local/lib/python3.10/dist-packages (from langchain-google-genai) (0.1.33)\n",
            "Requirement already satisfied: google-ai-generativelanguage==0.4.0 in /usr/local/lib/python3.10/dist-packages (from google-generativeai<0.5.0,>=0.4.1->langchain-google-genai) (0.4.0)\n",
            "Requirement already satisfied: google-auth>=2.15.0 in /usr/local/lib/python3.10/dist-packages (from google-generativeai<0.5.0,>=0.4.1->langchain-google-genai) (2.27.0)\n",
            "Requirement already satisfied: google-api-core in /usr/local/lib/python3.10/dist-packages (from google-generativeai<0.5.0,>=0.4.1->langchain-google-genai) (2.11.1)\n",
            "Requirement already satisfied: protobuf in /usr/local/lib/python3.10/dist-packages (from google-generativeai<0.5.0,>=0.4.1->langchain-google-genai) (3.20.3)\n",
            "Requirement already satisfied: pydantic in /usr/local/lib/python3.10/dist-packages (from google-generativeai<0.5.0,>=0.4.1->langchain-google-genai) (2.6.4)\n",
            "Requirement already satisfied: tqdm in /usr/local/lib/python3.10/dist-packages (from google-generativeai<0.5.0,>=0.4.1->langchain-google-genai) (4.66.2)\n",
            "Requirement already satisfied: typing-extensions in /usr/local/lib/python3.10/dist-packages (from google-generativeai<0.5.0,>=0.4.1->langchain-google-genai) (4.10.0)\n",
            "Requirement already satisfied: proto-plus<2.0.0dev,>=1.22.3 in /usr/local/lib/python3.10/dist-packages (from google-ai-generativelanguage==0.4.0->google-generativeai<0.5.0,>=0.4.1->langchain-google-genai) (1.23.0)\n",
            "Requirement already satisfied: PyYAML>=5.3 in /usr/local/lib/python3.10/dist-packages (from langchain-core<0.2,>=0.1->langchain-google-genai) (6.0.1)\n",
            "Requirement already satisfied: anyio<5,>=3 in /usr/local/lib/python3.10/dist-packages (from langchain-core<0.2,>=0.1->langchain-google-genai) (3.7.1)\n",
            "Requirement already satisfied: jsonpatch<2.0,>=1.33 in /usr/local/lib/python3.10/dist-packages (from langchain-core<0.2,>=0.1->langchain-google-genai) (1.33)\n",
            "Requirement already satisfied: langsmith<0.2.0,>=0.1.0 in /usr/local/lib/python3.10/dist-packages (from langchain-core<0.2,>=0.1->langchain-google-genai) (0.1.31)\n",
            "Requirement already satisfied: packaging<24.0,>=23.2 in /usr/local/lib/python3.10/dist-packages (from langchain-core<0.2,>=0.1->langchain-google-genai) (23.2)\n",
            "Requirement already satisfied: requests<3,>=2 in /usr/local/lib/python3.10/dist-packages (from langchain-core<0.2,>=0.1->langchain-google-genai) (2.31.0)\n",
            "Requirement already satisfied: tenacity<9.0.0,>=8.1.0 in /usr/local/lib/python3.10/dist-packages (from langchain-core<0.2,>=0.1->langchain-google-genai) (8.2.3)\n",
            "Requirement already satisfied: idna>=2.8 in /usr/local/lib/python3.10/dist-packages (from anyio<5,>=3->langchain-core<0.2,>=0.1->langchain-google-genai) (3.6)\n",
            "Requirement already satisfied: sniffio>=1.1 in /usr/local/lib/python3.10/dist-packages (from anyio<5,>=3->langchain-core<0.2,>=0.1->langchain-google-genai) (1.3.1)\n",
            "Requirement already satisfied: exceptiongroup in /usr/local/lib/python3.10/dist-packages (from anyio<5,>=3->langchain-core<0.2,>=0.1->langchain-google-genai) (1.2.0)\n",
            "Requirement already satisfied: cachetools<6.0,>=2.0.0 in /usr/local/lib/python3.10/dist-packages (from google-auth>=2.15.0->google-generativeai<0.5.0,>=0.4.1->langchain-google-genai) (5.3.3)\n",
            "Requirement already satisfied: pyasn1-modules>=0.2.1 in /usr/local/lib/python3.10/dist-packages (from google-auth>=2.15.0->google-generativeai<0.5.0,>=0.4.1->langchain-google-genai) (0.3.0)\n",
            "Requirement already satisfied: rsa<5,>=3.1.4 in /usr/local/lib/python3.10/dist-packages (from google-auth>=2.15.0->google-generativeai<0.5.0,>=0.4.1->langchain-google-genai) (4.9)\n",
            "Requirement already satisfied: jsonpointer>=1.9 in /usr/local/lib/python3.10/dist-packages (from jsonpatch<2.0,>=1.33->langchain-core<0.2,>=0.1->langchain-google-genai) (2.4)\n",
            "Requirement already satisfied: orjson<4.0.0,>=3.9.14 in /usr/local/lib/python3.10/dist-packages (from langsmith<0.2.0,>=0.1.0->langchain-core<0.2,>=0.1->langchain-google-genai) (3.9.15)\n",
            "Requirement already satisfied: annotated-types>=0.4.0 in /usr/local/lib/python3.10/dist-packages (from pydantic->google-generativeai<0.5.0,>=0.4.1->langchain-google-genai) (0.6.0)\n",
            "Requirement already satisfied: pydantic-core==2.16.3 in /usr/local/lib/python3.10/dist-packages (from pydantic->google-generativeai<0.5.0,>=0.4.1->langchain-google-genai) (2.16.3)\n",
            "Requirement already satisfied: charset-normalizer<4,>=2 in /usr/local/lib/python3.10/dist-packages (from requests<3,>=2->langchain-core<0.2,>=0.1->langchain-google-genai) (3.3.2)\n",
            "Requirement already satisfied: urllib3<3,>=1.21.1 in /usr/local/lib/python3.10/dist-packages (from requests<3,>=2->langchain-core<0.2,>=0.1->langchain-google-genai) (2.0.7)\n",
            "Requirement already satisfied: certifi>=2017.4.17 in /usr/local/lib/python3.10/dist-packages (from requests<3,>=2->langchain-core<0.2,>=0.1->langchain-google-genai) (2024.2.2)\n",
            "Requirement already satisfied: googleapis-common-protos<2.0.dev0,>=1.56.2 in /usr/local/lib/python3.10/dist-packages (from google-api-core->google-generativeai<0.5.0,>=0.4.1->langchain-google-genai) (1.63.0)\n",
            "Requirement already satisfied: grpcio<2.0dev,>=1.33.2 in /usr/local/lib/python3.10/dist-packages (from google-api-core->google-generativeai<0.5.0,>=0.4.1->langchain-google-genai) (1.62.1)\n",
            "Requirement already satisfied: grpcio-status<2.0.dev0,>=1.33.2 in /usr/local/lib/python3.10/dist-packages (from google-api-core->google-generativeai<0.5.0,>=0.4.1->langchain-google-genai) (1.48.2)\n",
            "Requirement already satisfied: pyasn1<0.6.0,>=0.4.6 in /usr/local/lib/python3.10/dist-packages (from pyasn1-modules>=0.2.1->google-auth>=2.15.0->google-generativeai<0.5.0,>=0.4.1->langchain-google-genai) (0.5.1)\n",
            "Installing collected packages: PyPDF2, google-generativeai, langchain-google-genai\n",
            "  Attempting uninstall: google-generativeai\n",
            "    Found existing installation: google-generativeai 0.3.2\n",
            "    Uninstalling google-generativeai-0.3.2:\n",
            "      Successfully uninstalled google-generativeai-0.3.2\n",
            "Successfully installed PyPDF2-3.0.1 google-generativeai-0.4.1 langchain-google-genai-0.0.11\n"
          ]
        },
        {
          "output_type": "display_data",
          "data": {
            "application/vnd.colab-display-data+json": {
              "pip_warning": {
                "packages": [
                  "google"
                ]
              },
              "id": "e1045812f1ab4e469da526f53ff7dda9"
            }
          },
          "metadata": {}
        }
      ]
    },
    {
      "cell_type": "code",
      "source": [
        "# Import libraries\n",
        "from PyPDF2 import PdfReader\n",
        "from langchain_google_genai import ChatGoogleGenerativeAI\n",
        "import os"
      ],
      "metadata": {
        "id": "vtQ4TXw0WEBH"
      },
      "execution_count": null,
      "outputs": []
    },
    {
      "cell_type": "code",
      "source": [
        "# Set up your Google API key\n",
        "os.environ[\"GOOGLE_API_KEY\"] = \"********\""
      ],
      "metadata": {
        "id": "8jC0y2moWEVA"
      },
      "execution_count": null,
      "outputs": []
    },
    {
      "cell_type": "code",
      "source": [
        "# Initialize the Gemini model\n",
        "llm = ChatGoogleGenerativeAI(model=\"gemini-pro\")\n",
        "\n",
        "# Function to read PDF content\n",
        "def read_pdf(file_path):\n",
        "    with open(file_path, 'rb') as file:\n",
        "        reader = PyPDF2.PdfReader(file)\n",
        "        text = ''\n",
        "        for page_num in range(len(reader.pages)):\n",
        "            text += reader.pages[page_num].extract_text()\n",
        "        return text\n",
        "\n",
        "# Function to analyze resume text and suggest improvements\n",
        "def analyze_and_improve_resume(resume_pdf_path):\n",
        "    # Extract text from PDF\n",
        "    resume_text = read_pdf(resume_pdf_path)\n",
        "\n",
        "    # Use Gemini to analyze the resume and suggest improvements\n",
        "    prompt = f\"Analyze the following resume and suggest improvements personalised to this resume to make it good for MNCs:\\n\\n{resume_text}\"\n",
        "    response = llm.invoke(prompt)\n",
        "\n",
        "    # Return the AI's suggestions\n",
        "    return response.content"
      ],
      "metadata": {
        "id": "Bc0q72oKYWIO"
      },
      "execution_count": null,
      "outputs": []
    },
    {
      "cell_type": "code",
      "source": [
        "from google.colab import drive\n",
        "drive.mount('/content/drive')"
      ],
      "metadata": {
        "colab": {
          "base_uri": "https://localhost:8080/"
        },
        "id": "xbCHN28oYbvN",
        "outputId": "d0222e88-08de-4ba8-f84c-c6f907fb6809"
      },
      "execution_count": null,
      "outputs": [
        {
          "output_type": "stream",
          "name": "stdout",
          "text": [
            "Mounted at /content/drive\n"
          ]
        }
      ]
    },
    {
      "cell_type": "code",
      "source": [
        "# Example usage\n",
        "resume_pdf_path = '/content/drive/MyDrive/GenAI/travel guide/ComputerScienceResumedocx.pdf'\n",
        "suggestions = analyze_and_improve_resume(resume_pdf_path)\n",
        "print(f\"Suggestions for improvement:\\n{suggestions}\")\n"
      ],
      "metadata": {
        "colab": {
          "base_uri": "https://localhost:8080/"
        },
        "id": "ENCTC1wRYaL5",
        "outputId": "802c68af-155b-4473-9ce6-40cd243a133e"
      },
      "execution_count": null,
      "outputs": [
        {
          "output_type": "stream",
          "name": "stdout",
          "text": [
            "Suggestions for improvement:\n",
            "**Improvements for MNC Resume**\n",
            "\n",
            "**1. Emphasize Project Management and Consulting Skills**\n",
            "\n",
            "* Rename the \"Summary of Qualifications\" section to \"Project Management and Consulting Experience\" to highlight your primary focus.\n",
            "* Quantify your accomplishments with metrics and tangible results, such as \"Managed projects with budgets of over $100,000 and delivered on time and within scope.\"\n",
            "\n",
            "**2. Highlight Experience Relevant to MNCs**\n",
            "\n",
            "* Include a section dedicated to your experience at Financial Network Services, Pty Ltd. and emphasize your responsibilities that are relevant to MNC operations, such as Unix administration and multicultural software installation.\n",
            "* Consider adding brief descriptions of any international projects or cross-cultural collaborations you have participated in.\n",
            "\n",
            "**3. Use Industry-Standard Language and Terminology**\n",
            "\n",
            "* Use industry-standard terms and acronyms throughout your resume, such as \"project lifecycle,\" \"stakeholder analysis,\" and \"agile methodologies.\"\n",
            "* Proofread carefully for any inconsistencies or errors in grammar or spelling.\n",
            "\n",
            "**4. Enhance Technical Skills Section**\n",
            "\n",
            "* List your technical skills in a more concise and organized manner, using bullet points or a table.\n",
            "* Include specific versions of software and operating systems you are proficient in.\n",
            "* Consider adding any certifications or training you have completed to enhance your credibility.\n",
            "\n",
            "**5. Update Education Section**\n",
            "\n",
            "* Include the full name of your university and the location of its campus.\n",
            "* Consider adding any relevant coursework or research projects that demonstrate your analytical and problem-solving abilities.\n",
            "\n",
            "**6. Tailor to Specific MNCs**\n",
            "\n",
            "* Research the MNCs you are applying to and tailor your resume to highlight skills and experience that align with their needs.\n",
            "* Use keywords from the job descriptions in your resume to increase your chances of passing screening algorithms.\n",
            "\n",
            "**Sample Revised Resume:**\n",
            "\n",
            "```\n",
            "YOUR NAME\n",
            "123-456-7890 | Hammond, LA | github.com/yourname | linkedin.com/yourname\n",
            "\n",
            "**Project Management and Consulting Experience**\n",
            "\n",
            "* Proven project management and consulting skills in nonprofit and technology industries, with a focus on quick turnarounds and troubleshooting.\n",
            "* Expertise in planning, strategy development, and understanding customer and client business processes.\n",
            "* Demonstrated success in team building and management, with a strong track record of delivering successful projects.\n",
            "\n",
            "**Technical Skills**\n",
            "\n",
            "* Programming Languages: Visual Basic, SQL, C, C++, Java\n",
            "* Operating Systems: Windows NT/2000/XP/Vista, Linux, Unix\n",
            "* Database: SQL Server, Microsoft Access, Oracle\n",
            "* Software: JCL, SQL, DB2, MS Visio, MS Excel, MS FrontPage, MS Word\n",
            "\n",
            "**Experience**\n",
            "\n",
            "**Project Manager and Consultant**\n",
            "* Nonprofit Organizations\n",
            "* Managed projects with budgets over $100,000, delivering on time and within scope.\n",
            "* Conducted stakeholder analysis, developed project plans, and implemented agile methodologies.\n",
            "* Provided strategic guidance to clients, helping them optimize business processes and achieve their goals.\n",
            "\n",
            "**Unix Administrator Assistant**\n",
            "* Financial Network Services, Pty Ltd., Sydney, Australia\n",
            "* Configured and installed multilingual software for overseas consultants.\n",
            "* Operated Unix Hp/Ux 11i, transferring files between development and testing regions.\n",
            "* Created user accounts and set permissions and passwords using UNIX - SCO.\n",
            "\n",
            "**Web Developer**\n",
            "* SLU Computer Science Department, Hammond, LA\n",
            "* Developed a student portal website, providing access to blogs, research articles, and inter-office communication.\n",
            "* Wrote and published blog posts highlighting industry trends, meeting monthly deadlines.\n",
            "* Interviewed faculty, staff, and employers to generate content for blog posts and articles.\n",
            "\n",
            "**Education**\n",
            "\n",
            "* Southeastern Louisiana University, Hammond, LA\n",
            "* Bachelor of Science in Computer Science, May 2021\n",
            "* Thesis: Computerized Enrollment and Student Information Systems\n",
            "* Major GPA: 3.84/4.00\n",
            "* Taylor Opportunity Program for Students Scholarship\n",
            "\n",
            "**Certifications**\n",
            "\n",
            "* Certified Scrum Master (CSM)\n",
            "* Microsoft Certified Solutions Expert (MCSE)\n",
            "\n",
            "**Leadership Experience**\n",
            "\n",
            "* Risk Manager, Pi Kappa Alpha Fraternity, Mu Nu Chapter, Hammond, LA\n",
            "* Treasurer, Pi Kappa Alpha Fraternity, Mu Nu Chapter, Hammond, LA\n",
            "\n",
            "**Awards and Honors**\n",
            "\n",
            "* Dean's List (3 semesters)\n",
            "* Presidential Scholar (2 semesters)\n",
            "* Women in Technology (August 2019 - May 2021)\n",
            "```\n"
          ]
        }
      ]
    }
  ]
}